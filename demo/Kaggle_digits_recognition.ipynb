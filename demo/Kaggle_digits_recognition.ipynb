{
 "metadata": {
  "name": "Kaggle_digits_recognition"
 },
 "nbformat": 3,
 "nbformat_minor": 0,
 "worksheets": [
  {
   "cells": [
    {
     "cell_type": "heading",
     "level": 1,
     "metadata": {},
     "source": [
      "My feedforward neural network imeplmentation + cost function described in Coursera Stanford Machine Learning course for hand-written digits recognition"
     ]
    },
    {
     "cell_type": "markdown",
     "metadata": {},
     "source": [
      "You should start ipython notebook server with \"--pylab inline\" flag."
     ]
    },
    {
     "cell_type": "code",
     "collapsed": false,
     "input": [
      "import sys\n",
      "sys.path.append('../src')\n",
      "import csv"
     ],
     "language": "python",
     "metadata": {},
     "outputs": [],
     "prompt_number": 1
    },
    {
     "cell_type": "code",
     "collapsed": false,
     "input": [
      "from numpy import loadtxt\n",
      "from numpy.random import uniform\n",
      "from sklearn.decomposition import PCA\n",
      "from sklearn.cross_validation import train_test_split\n",
      "from FeedforwardNeuNet import sigmoid, NnLayer, FeedforwardNeuNet\n",
      "from CostFunc import courseraML_CostFunc, courseraML_CostFuncGrad\n",
      "from Helper import display1DArrAsGrayImg"
     ],
     "language": "python",
     "metadata": {},
     "outputs": [],
     "prompt_number": 2
    },
    {
     "cell_type": "heading",
     "level": 2,
     "metadata": {},
     "source": [
      "Loading and preprocessing data:"
     ]
    },
    {
     "cell_type": "markdown",
     "metadata": {},
     "source": [
      "Check http://www.kaggle.com/c/digit-recognizer/data for data format:"
     ]
    },
    {
     "cell_type": "code",
     "collapsed": false,
     "input": [
      "train_targetsAndInputs=loadtxt('../demoDataSet/kaggle_digit_train.csv',delimiter=',',skiprows=1)\n",
      "test_inputsOrig=loadtxt('../demoDataSet/kaggle_digit_test.csv',delimiter=',',skiprows=1)\n",
      "test_rf_benchmark=loadtxt('../demoDataSet/kaggle_digit_rf_benchmark.csv',delimiter=',',skiprows=1)\n",
      "\n",
      "y = train_targetsAndInputs[:,0][:, None] # make each target a row in 2D array\n",
      "identityArr = identity(10)\n",
      "targets = select([y == 0, y == 1, y == 2, y == 3, y == 4, y == 5, y == 6, y == 7, y == 8, y == 9], [identityArr[0], identityArr[1], identityArr[2], identityArr[3], identityArr[4], identityArr[5], identityArr[6], identityArr[7], identityArr[8], identityArr[9]])\n",
      "traingSetNormalized=0\n",
      "PCAonTrainSet=0\n",
      "inputs=train_targetsAndInputs[:,1:]\n",
      "pcaReducedDimTo=inputs[0].size"
     ],
     "language": "python",
     "metadata": {},
     "outputs": [],
     "prompt_number": 3
    },
    {
     "cell_type": "code",
     "collapsed": false,
     "input": [
      "display1DArrAsGrayImg(train_targetsAndInputs[-1,1:],28,28)\n",
      "print('target: {0}'.format(train_targetsAndInputs[-1,0]))"
     ],
     "language": "python",
     "metadata": {},
     "outputs": [
      {
       "output_type": "stream",
       "stream": "stdout",
       "text": [
        "target: 9.0\n"
       ]
      },
      {
       "output_type": "display_data",
       "png": "[encoded data removed]",
       "text": [
        "<matplotlib.figure.Figure at 0x307ad50>"
       ]
      }
     ],
     "prompt_number": 4
    },
    {
     "cell_type": "markdown",
     "metadata": {},
     "source": [
      "Normalizing training set and test set:"
     ]
    },
    {
     "cell_type": "code",
     "collapsed": false,
     "input": [
      "traingSetNormalized=1\n",
      "inputs=(inputs-mean(inputs))/std(inputs) #normalizing inputs\n",
      "test_inputs=(test_inputsOrig-mean(test_inputsOrig))/std(test_inputsOrig) # normalize test_inputsOrig"
     ],
     "language": "python",
     "metadata": {},
     "outputs": [],
     "prompt_number": 5
    },
    {
     "cell_type": "markdown",
     "metadata": {},
     "source": [
      "Do **NOT** use PCA code here to reduce input dimension cause it messed up the data, and resulted in slow nn training:"
     ]
    },
    {
     "cell_type": "code",
     "collapsed": false,
     "input": [
      "# If I use PCA, then it takes forever to train my nn\n",
      "PCAonTrainSet=1\n",
      "pcaReducedDimTo=400\n",
      "pca = PCA(pcaReducedDimTo)\n",
      "pca.fit(inputs)\n",
      "print(pca.explained_variance_ratio_)\n",
      "pca_inputs=pca.transform(inputs)\n",
      "pca.fit(test_inputs)\n",
      "pca_test_inputs=pca.transform(test_inputs)"
     ],
     "language": "python",
     "metadata": {},
     "outputs": []
    },
    {
     "cell_type": "heading",
     "level": 2,
     "metadata": {},
     "source": [
      "Create and train my feedforward neural network:"
     ]
    },
    {
     "cell_type": "markdown",
     "metadata": {},
     "source": [
      "Split training data into training set and CV set:"
     ]
    },
    {
     "cell_type": "code",
     "collapsed": false,
     "input": [
      "nnInputs=pca_inputs if PCAonTrainSet else inputs\n",
      "nnInputs_train, nnInputs_cv, targets_train, targets_cv = train_test_split(nnInputs, targets, test_size=0.3, random_state=0)"
     ],
     "language": "python",
     "metadata": {},
     "outputs": [],
     "prompt_number": 6
    },
    {
     "cell_type": "heading",
     "level": 3,
     "metadata": {},
     "source": [
      "Model selection/Setting hyperparameters:"
     ]
    },
    {
     "cell_type": "heading",
     "level": 4,
     "metadata": {},
     "source": [
      "(1) number of layers:"
     ]
    },
    {
     "cell_type": "markdown",
     "metadata": {},
     "source": [
      "I initialize weights using the\n",
      "*\"effective strategy for initializing initial weights\"* (described in Coursera Stanford Machine Learning course, homework assignment 4, ex4.pdf, p7)"
     ]
    },
    {
     "cell_type": "code",
     "collapsed": false,
     "input": [
      "errRate_train, errRate_cv=[],[]"
     ],
     "language": "python",
     "metadata": {},
     "outputs": [],
     "prompt_number": 7
    },
    {
     "cell_type": "code",
     "collapsed": false,
     "input": [
      "maxIter=20\n",
      "start, end=3,6 # inclusive\n",
      "for numOfLyExcOutputLy in xrange(start, end+1):\n",
      "    layersExOutputLy=[]\n",
      "    dimReducedTo=pcaReducedDimTo\n",
      "    listOfNumOfUnits=range(10, dimReducedTo, dimReducedTo/numOfLyExcOutputLy)\n",
      "    for n in reversed(listOfNumOfUnits):\n",
      "        layersExOutputLy.append(NnLayer(sigmoid, dimReducedTo, 1, n)) # input layer and each hidden layer. No need to creat output layer\n",
      "        initRange=6**0.5/(dimReducedTo+1+n+1)**0.5\n",
      "        layersExOutputLy[-1].updateForwardWeight(uniform(-initRange, initRange, (n,dimReducedTo+1)))\n",
      "        dimReducedTo=n\n",
      "    nn = FeedforwardNeuNet(layersExOutputLy, 1)\n",
      "    nn.train(nnInputs_train, targets_train, courseraML_CostFunc, courseraML_CostFuncGrad, maxIter)\n",
      "    predictionsOnTrainSet=argmax(asarray(nn.forwardPropogateAllInput(nnInputs_train)),1)\n",
      "    numPredictErr=count_nonzero(logical_not(argmax(targets_train,1)==predictionsOnTrainSet))\n",
      "    errRate_train.append(numPredictErr*1.0/len(predictionsOnTrainSet))\n",
      "    predictionsOnCVSet=argmax(asarray(nn.forwardPropogateAllInput(nnInputs_cv)),1)\n",
      "    numPredictErr=count_nonzero(logical_not(argmax(targets_cv,1)==predictionsOnCVSet))\n",
      "    errRate_cv.append(numPredictErr*1.0/len(predictionsOnCVSet))"
     ],
     "language": "python",
     "metadata": {},
     "outputs": [
      {
       "output_type": "stream",
       "stream": "stdout",
       "text": [
        "Warning: Maximum number of iterations has been exceeded.\n",
        "         Current function value: 0.982238\n",
        "         Iterations: 20\n",
        "         Function evaluations: 35\n",
        "         Gradient evaluations: 35\n",
        "Warning: Maximum number of iterations has been exceeded."
       ]
      },
      {
       "output_type": "stream",
       "stream": "stdout",
       "text": [
        "\n",
        "         Current function value: 1.588392\n",
        "         Iterations: 20\n",
        "         Function evaluations: 39\n",
        "         Gradient evaluations: 39\n",
        "Warning: Maximum number of iterations has been exceeded."
       ]
      },
      {
       "output_type": "stream",
       "stream": "stdout",
       "text": [
        "\n",
        "         Current function value: 2.105373\n",
        "         Iterations: 20\n",
        "         Function evaluations: 39\n",
        "         Gradient evaluations: 39\n",
        "Warning: Maximum number of iterations has been exceeded."
       ]
      },
      {
       "output_type": "stream",
       "stream": "stdout",
       "text": [
        "\n",
        "         Current function value: 3.278530\n",
        "         Iterations: 20\n",
        "         Function evaluations: 33\n",
        "         Gradient evaluations: 33\n"
       ]
      }
     ],
     "prompt_number": 138
    },
    {
     "cell_type": "code",
     "collapsed": false,
     "input": [
      "fig, ax = plt.subplots()\n",
      "ax.plot(range(start,end+1), errRate_cv, lw=2, label = 'cross-validation error')\n",
      "ax.plot(range(start,end+1), errRate_train, lw=2, label = 'training error')\n",
      "ax.legend(loc=0)\n",
      "ax.set_xlabel('num of layers')\n",
      "ax.set_ylabel('prediction error rate')"
     ],
     "language": "python",
     "metadata": {},
     "outputs": [
      {
       "output_type": "pyout",
       "prompt_number": 139,
       "text": [
        "<matplotlib.text.Text at 0xd9abdd0>"
       ]
      },
      {
       "output_type": "display_data",
       "png": "[encoded data removed]",
       "text": [
        "<matplotlib.figure.Figure at 0x345d2f10>"
       ]
      }
     ],
     "prompt_number": 139
    },
    {
     "cell_type": "markdown",
     "metadata": {},
     "source": [
      "It seems like using more layers is not necessarilly better. So I choose a 3-layer setup."
     ]
    },
    {
     "cell_type": "heading",
     "level": 4,
     "metadata": {},
     "source": [
      "(2) number of units in 1st hidden layer"
     ]
    },
    {
     "cell_type": "code",
     "collapsed": false,
     "input": [
      "errRate_train, errRate_cv=[],[]"
     ],
     "language": "python",
     "metadata": {},
     "outputs": [],
     "prompt_number": 20
    },
    {
     "cell_type": "code",
     "collapsed": false,
     "input": [
      "maxIter=20\n",
      "start, end=50, 500 # inclusive\n",
      "for fstHidUnt in xrange(start,end+1,100):\n",
      "    layersExOutputLy=[]    \n",
      "    listOfNumOfUnits=[10, 40, fstHidUnt]\n",
      "    dimReducedTo=pcaReducedDimTo\n",
      "    for n in reversed(listOfNumOfUnits):\n",
      "        layersExOutputLy.append(NnLayer(sigmoid, dimReducedTo, 1, n)) # input layer and each hidden layer. No need to creat output layer\n",
      "        initRange=6**0.5/(dimReducedTo+1+n+1)**0.5\n",
      "        layersExOutputLy[-1].updateForwardWeight(uniform(-initRange, initRange, (n,dimReducedTo+1)))\n",
      "        dimReducedTo=n\n",
      "    nn = FeedforwardNeuNet(layersExOutputLy, 1)\n",
      "    nn.train(nnInputs_train, targets_train, courseraML_CostFunc, courseraML_CostFuncGrad, maxIter)\n",
      "    predictionsOnTrainSet=argmax(asarray(nn.forwardPropogateAllInput(nnInputs_train)),1)\n",
      "    numPredictErr=count_nonzero(logical_not(argmax(targets_train,1)==predictionsOnTrainSet))\n",
      "    errRate_train.append(numPredictErr*1.0/len(predictionsOnTrainSet))\n",
      "    predictionsOnCVSet=argmax(asarray(nn.forwardPropogateAllInput(nnInputs_cv)),1)\n",
      "    numPredictErr=count_nonzero(logical_not(argmax(targets_cv,1)==predictionsOnCVSet))\n",
      "    errRate_cv.append(numPredictErr*1.0/len(predictionsOnCVSet))"
     ],
     "language": "python",
     "metadata": {},
     "outputs": [
      {
       "output_type": "stream",
       "stream": "stdout",
       "text": [
        "Warning: Maximum number of iterations has been exceeded.\n",
        "         Current function value: 0.964153\n",
        "         Iterations: 20\n",
        "         Function evaluations: 39\n",
        "         Gradient evaluations: 39\n",
        "Warning: Maximum number of iterations has been exceeded."
       ]
      },
      {
       "output_type": "stream",
       "stream": "stdout",
       "text": [
        "\n",
        "         Current function value: 0.843281\n",
        "         Iterations: 20\n",
        "         Function evaluations: 37\n",
        "         Gradient evaluations: 37\n",
        "Warning: Maximum number of iterations has been exceeded."
       ]
      },
      {
       "output_type": "stream",
       "stream": "stdout",
       "text": [
        "\n",
        "         Current function value: 0.906120\n",
        "         Iterations: 20\n",
        "         Function evaluations: 36\n",
        "         Gradient evaluations: 36\n",
        "Warning: Maximum number of iterations has been exceeded."
       ]
      },
      {
       "output_type": "stream",
       "stream": "stdout",
       "text": [
        "\n",
        "         Current function value: 1.365604\n",
        "         Iterations: 20\n",
        "         Function evaluations: 34\n",
        "         Gradient evaluations: 34\n",
        "Warning: Maximum number of iterations has been exceeded."
       ]
      },
      {
       "output_type": "stream",
       "stream": "stdout",
       "text": [
        "\n",
        "         Current function value: 1.853325\n",
        "         Iterations: 20\n",
        "         Function evaluations: 32\n",
        "         Gradient evaluations: 32\n"
       ]
      }
     ],
     "prompt_number": 21
    },
    {
     "cell_type": "code",
     "collapsed": false,
     "input": [
      "fig, ax = plt.subplots()\n",
      "ax.plot(range(start,end+1,100), errRate_cv, lw=2, label = 'cross-validation error')\n",
      "ax.plot(range(start,end+1,100), errRate_train, lw=2, label = 'training error')\n",
      "ax.legend(loc=0)\n",
      "ax.set_xlabel('num of units in 1st hidden layer')\n",
      "ax.set_ylabel('prediction error rate')"
     ],
     "language": "python",
     "metadata": {},
     "outputs": [
      {
       "output_type": "pyout",
       "prompt_number": 25,
       "text": [
        "<matplotlib.text.Text at 0x4d55c850>"
       ]
      },
      {
       "output_type": "display_data",
       "png": "[encoded data removed]",
       "text": [
        "<matplotlib.figure.Figure at 0x4d57ee10>"
       ]
      }
     ],
     "prompt_number": 25
    },
    {
     "cell_type": "code",
     "collapsed": false,
     "input": [
      "(errRate_cv, errRate_train)"
     ],
     "language": "python",
     "metadata": {},
     "outputs": [
      {
       "output_type": "pyout",
       "prompt_number": 24,
       "text": [
        "([0.15126984126984128,\n",
        "  0.11746031746031746,\n",
        "  0.11698412698412698,\n",
        "  0.1984126984126984,\n",
        "  0.40190476190476193],\n",
        " [0.1501360544217687,\n",
        "  0.11918367346938775,\n",
        "  0.12360544217687075,\n",
        "  0.20517006802721088,\n",
        "  0.40187074829931974])"
       ]
      }
     ],
     "prompt_number": 24
    },
    {
     "cell_type": "markdown",
     "metadata": {},
     "source": [
      "Based on the err rate of CV set, I set the number of hidden units in 1st hidden layer to: 200"
     ]
    },
    {
     "cell_type": "heading",
     "level": 4,
     "metadata": {},
     "source": [
      "(3) number of units in 2nd hidden layer"
     ]
    },
    {
     "cell_type": "code",
     "collapsed": false,
     "input": [
      "errRate_train, errRate_cv=[],[]"
     ],
     "language": "python",
     "metadata": {},
     "outputs": [],
     "prompt_number": 30
    },
    {
     "cell_type": "code",
     "collapsed": false,
     "input": [
      "maxIter=20\n",
      "start, end=50, 150 # inclusive\n",
      "for fstHidUnt in xrange(start, end+1, 20):\n",
      "    layersExOutputLy=[]    \n",
      "    listOfNumOfUnits=[10, fstHidUnt, 200]\n",
      "    dimReducedTo=pcaReducedDimTo\n",
      "    for n in reversed(listOfNumOfUnits):\n",
      "        layersExOutputLy.append(NnLayer(sigmoid, dimReducedTo, 1, n)) # input layer and each hidden layer. No need to creat output layer\n",
      "        initRange=6**0.5/(dimReducedTo+1+n+1)**0.5\n",
      "        layersExOutputLy[-1].updateForwardWeight(uniform(-initRange, initRange, (n,dimReducedTo+1)))\n",
      "        dimReducedTo=n\n",
      "    nn = FeedforwardNeuNet(layersExOutputLy, 1)\n",
      "    nn.train(nnInputs_train, targets_train, courseraML_CostFunc, courseraML_CostFuncGrad, maxIter)\n",
      "    predictionsOnTrainSet=argmax(asarray(nn.forwardPropogateAllInput(nnInputs_train)),1)\n",
      "    numPredictErr=count_nonzero(logical_not(argmax(targets_train,1)==predictionsOnTrainSet))\n",
      "    errRate_train.append(numPredictErr*1.0/len(predictionsOnTrainSet))\n",
      "    predictionsOnCVSet=argmax(asarray(nn.forwardPropogateAllInput(nnInputs_cv)),1)\n",
      "    numPredictErr=count_nonzero(logical_not(argmax(targets_cv,1)==predictionsOnCVSet))\n",
      "    errRate_cv.append(numPredictErr*1.0/len(predictionsOnCVSet))"
     ],
     "language": "python",
     "metadata": {},
     "outputs": [
      {
       "output_type": "stream",
       "stream": "stdout",
       "text": [
        "Warning: Maximum number of iterations has been exceeded.\n",
        "         Current function value: 0.986339\n",
        "         Iterations: 20\n",
        "         Function evaluations: 35\n",
        "         Gradient evaluations: 35\n",
        "Warning: Maximum number of iterations has been exceeded."
       ]
      },
      {
       "output_type": "stream",
       "stream": "stdout",
       "text": [
        "\n",
        "         Current function value: 0.653009\n",
        "         Iterations: 20\n",
        "         Function evaluations: 34\n",
        "         Gradient evaluations: 34\n",
        "Warning: Maximum number of iterations has been exceeded."
       ]
      },
      {
       "output_type": "stream",
       "stream": "stdout",
       "text": [
        "\n",
        "         Current function value: 0.776063\n",
        "         Iterations: 20\n",
        "         Function evaluations: 33\n",
        "         Gradient evaluations: 33\n",
        "Warning: Maximum number of iterations has been exceeded."
       ]
      },
      {
       "output_type": "stream",
       "stream": "stdout",
       "text": [
        "\n",
        "         Current function value: 0.819521\n",
        "         Iterations: 20\n",
        "         Function evaluations: 33\n",
        "         Gradient evaluations: 33\n",
        "Warning: Maximum number of iterations has been exceeded."
       ]
      },
      {
       "output_type": "stream",
       "stream": "stdout",
       "text": [
        "\n",
        "         Current function value: 0.802499\n",
        "         Iterations: 20\n",
        "         Function evaluations: 32\n",
        "         Gradient evaluations: 32\n",
        "Warning: Maximum number of iterations has been exceeded."
       ]
      },
      {
       "output_type": "stream",
       "stream": "stdout",
       "text": [
        "\n",
        "         Current function value: 0.905642\n",
        "         Iterations: 20\n",
        "         Function evaluations: 30\n",
        "         Gradient evaluations: 30\n"
       ]
      }
     ],
     "prompt_number": 31
    },
    {
     "cell_type": "code",
     "collapsed": false,
     "input": [
      "fig, ax = plt.subplots()\n",
      "ax.plot(range(start,end+1,20), errRate_cv, lw=2, label = 'cross-validation error')\n",
      "ax.plot(range(start,end+1,20), errRate_train, lw=2, label = 'training error')\n",
      "ax.legend(loc=0)\n",
      "ax.set_xlabel('num of units in 2nd hidden layer')\n",
      "ax.set_ylabel('prediction error rate')"
     ],
     "language": "python",
     "metadata": {},
     "outputs": [
      {
       "output_type": "pyout",
       "prompt_number": 35,
       "text": [
        "<matplotlib.text.Text at 0x6a0ba10>"
       ]
      },
      {
       "output_type": "display_data",
       "png": "[encoded data removed]",
       "text": [
        "<matplotlib.figure.Figure at 0x4d668510>"
       ]
      }
     ],
     "prompt_number": 35
    },
    {
     "cell_type": "code",
     "collapsed": false,
     "input": [
      "(errRate_cv, errRate_train)"
     ],
     "language": "python",
     "metadata": {},
     "outputs": [
      {
       "output_type": "pyout",
       "prompt_number": 33,
       "text": [
        "([0.1411111111111111,\n",
        "  0.09579365079365079,\n",
        "  0.10896825396825396,\n",
        "  0.11428571428571428,\n",
        "  0.11761904761904762,\n",
        "  0.12785714285714286],\n",
        " [0.14680272108843537,\n",
        "  0.0977891156462585,\n",
        "  0.11214285714285714,\n",
        "  0.12074829931972789,\n",
        "  0.12445578231292517,\n",
        "  0.1311904761904762])"
       ]
      }
     ],
     "prompt_number": 33
    },
    {
     "cell_type": "markdown",
     "metadata": {},
     "source": [
      "Based on the err rate of CV set, I set the number of hidden units in 2nd hidden layer to: 70"
     ]
    },
    {
     "cell_type": "heading",
     "level": 2,
     "metadata": {},
     "source": [
      "Build neural network based on the possibly optimal hyperparameters observed:"
     ]
    },
    {
     "cell_type": "code",
     "collapsed": false,
     "input": [
      "maxIter=150\n",
      "layersExOutputLy=[]\n",
      "listOfNumOfUnits=[10, 70, 200]\n",
      "dimReducedTo=pcaReducedDimTo\n",
      "for n in reversed(listOfNumOfUnits):\n",
      "    # Only input layer and each hidden layer are created. No need to creat output layer cause in my \n",
      "    # implementation, each layer will call activation function on weighted inputs (and also its weighted \n",
      "    # bias) and output the result to next layer. In other words, the nn[:]( or nn.outputs, when given \n",
      "    # multiple inputs) will serve as the output layer, and all it does is storing the output values of \n",
      "    # the last hidden layer.\n",
      "    layersExOutputLy.append(NnLayer(sigmoid, dimReducedTo, 1, n))\n",
      "    initRange=6**0.5/(dimReducedTo+1+n+1)**0.5\n",
      "    layersExOutputLy[-1].updateForwardWeight(uniform(-initRange, initRange, (n,dimReducedTo+1)))\n",
      "    dimReducedTo=n\n",
      "nn = FeedforwardNeuNet(layersExOutputLy, 1)"
     ],
     "language": "python",
     "metadata": {},
     "outputs": [],
     "prompt_number": 36
    },
    {
     "cell_type": "code",
     "collapsed": false,
     "input": [
      "nn.train(nnInputs_train, targets_train, courseraML_CostFunc, courseraML_CostFuncGrad, maxIter)"
     ],
     "language": "python",
     "metadata": {},
     "outputs": [
      {
       "output_type": "stream",
       "stream": "stdout",
       "text": [
        "Warning: Maximum number of iterations has been exceeded.\n",
        "         Current function value: 0.049476\n",
        "         Iterations: 150\n",
        "         Function evaluations: 916\n",
        "         Gradient evaluations: 895\n"
       ]
      }
     ],
     "prompt_number": 37
    },
    {
     "cell_type": "code",
     "collapsed": false,
     "input": [
      "predictionsOnTrainSet=argmax(asarray(nn.forwardPropogateAllInput(nnInputs_train)),1)\n",
      "numPredictErr=count_nonzero(logical_not(argmax(targets_train,1)==predictionsOnTrainSet))\n",
      "errRate_train=numPredictErr*1.0/len(predictionsOnTrainSet)\n",
      "predictionsOnCVSet=argmax(asarray(nn.forwardPropogateAllInput(nnInputs_cv)),1)\n",
      "numPredictErr=count_nonzero(logical_not(argmax(targets_cv,1)==predictionsOnCVSet))\n",
      "errRate_cv=numPredictErr*1.0/len(predictionsOnCVSet)\n",
      "(errRate_train, errRate_cv)"
     ],
     "language": "python",
     "metadata": {},
     "outputs": [
      {
       "output_type": "pyout",
       "prompt_number": 38,
       "text": [
        "(3.401360544217687e-05, 0.026507936507936508)"
       ]
      }
     ],
     "prompt_number": 38
    },
    {
     "cell_type": "heading",
     "level": 2,
     "metadata": {},
     "source": [
      "Special note about the importance of model selection using cross validation:"
     ]
    },
    {
     "cell_type": "markdown",
     "metadata": {},
     "source": [
      "Before using cross validation on model selection, I trained my nn using casually-picked hyperparameters:\n",
      "\n",
      "- 3 layers (input layer+ 2 hidden layers + output layer that does nothing but store the output values of previous hidden layer)\n",
      "- dimensions of each layer (from input to output): 785 (1 bias unit included), 41 (1 bias unit included), 21 (1 bias unit included), 10\n",
      "\n",
      "I used the follow code snippet to visualize the impact when gradually increase the max iteration of my nn.train() function:"
     ]
    },
    {
     "cell_type": "code",
     "collapsed": false,
     "input": [
      "errRate_train,errRate_cv=[],[]\n",
      "start, end=80,150 # inclusive, this segment of code takes pretty long to finish\n",
      "for maxI in range(start,end+1,10):\n",
      "    initRange=6**0.5/(dimReducedTo+1+28+1)**0.5\n",
      "    nn.layersExOutputLy[0].updateForwardWeight(uniform(-initRange, initRange, (40,dimReducedTo+1))) # treat a layer as a column vector\n",
      "    initRange=6**0.5/(28+1+20+1)**0.5\n",
      "    nn.layersExOutputLy[1].updateForwardWeight(uniform(-initRange, initRange, (20,41)))\n",
      "    initRange=6**0.5/(20+1+10)**0.5\n",
      "    nn.layersExOutputLy[2].updateForwardWeight(uniform(-initRange, initRange, (10,21)))\n",
      "    nn.train(nnInputs_train, targets_train, courseraML_CostFunc, courseraML_CostFuncGrad, maxI)\n",
      "    predictionsOnTrainSet=argmax(asarray(nn.forwardPropogateAllInput(nnInputs_train)),1)\n",
      "    numPredictErr=count_nonzero(logical_not(argmax(targets_train,1)==predictionsOnTrainSet))\n",
      "    errRate_train.append(numPredictErr*1.0/len(predictionsOnTrainSet))\n",
      "    predictionsOnCVSet=argmax(asarray(nn.forwardPropogateAllInput(nnInputs_cv)),1)\n",
      "    numPredictErr=count_nonzero(logical_not(argmax(targets_cv,1)==predictionsOnCVSet))\n",
      "    errRate_cv.append(numPredictErr*1.0/len(predictionsOnCVSet))"
     ],
     "language": "python",
     "metadata": {},
     "outputs": []
    },
    {
     "cell_type": "code",
     "collapsed": false,
     "input": [
      "fig, ax = plt.subplots()\n",
      "ax.plot(range(start,end+1,10), errRate_cv, lw=2, label = 'cross-validation error')\n",
      "ax.plot(range(start,end+1,10), errRate_train, lw=2, label = 'training error')\n",
      "ax.legend(loc=0)\n",
      "ax.set_xlabel('max iteration of train()')\n",
      "ax.set_ylabel('prediction error rate')"
     ],
     "language": "python",
     "metadata": {},
     "outputs": [
      {
       "output_type": "pyout",
       "prompt_number": 80,
       "text": [
        "<matplotlib.text.Text at 0x3070e750>"
       ]
      },
      {
       "output_type": "display_data",
       "png": "[encoded data removed]",
       "text": [
        "<matplotlib.figure.Figure at 0x39a35390>"
       ]
      }
     ],
     "prompt_number": 80
    },
    {
     "cell_type": "code",
     "collapsed": false,
     "input": [
      "(errRate_train,errRate_cv)"
     ],
     "language": "python",
     "metadata": {},
     "outputs": [
      {
       "output_type": "pyout",
       "prompt_number": 81,
       "text": [
        "([0.030068027210884352,\n",
        "  0.02554421768707483,\n",
        "  0.028673469387755102,\n",
        "  0.01554421768707483,\n",
        "  0.017551020408163264,\n",
        "  0.00901360544217687,\n",
        "  0.01108843537414966,\n",
        "  0.00925170068027211],\n",
        " [0.06134920634920635,\n",
        "  0.057301587301587305,\n",
        "  0.05619047619047619,\n",
        "  0.05150793650793651,\n",
        "  0.05380952380952381,\n",
        "  0.04880952380952381,\n",
        "  0.05373015873015873,\n",
        "  0.053253968253968255])"
       ]
      }
     ],
     "prompt_number": 81
    },
    {
     "cell_type": "markdown",
     "metadata": {},
     "source": [
      "The value of cost function given optimized weights when max iteration is:\n",
      "\n",
      "- 80: 0.259619, 90: 0.239125,\n",
      "- 100: 0.247281, 110: 0.173178,\n",
      "- 120: 0.186852, 130: 0.131729,\n",
      "- 140: 0.145243, 150: 0.144389\n",
      "\n",
      "It's clear that cost function converges at ~130. And this preliminary model suffers from higher error rates on both training set and cv set. In fact, the preliminary model has error rates that are:\n",
      "\n",
      "- **~30000%** of the error rate of the cross-validated model on training set\n",
      "- **~200%** of the error rate of the cross-validated model on cv set\n",
      "\n",
      "**Conclusion**: Cross validation is truly an amazing tool for model selection!"
     ]
    },
    {
     "cell_type": "heading",
     "level": 2,
     "metadata": {},
     "source": [
      "Save optimized weights and corresponding configurations:"
     ]
    },
    {
     "cell_type": "code",
     "collapsed": false,
     "input": [
      "with open('Kaggle_digits_recognition_configuration.csv', 'ab') as csvfile:\n",
      "    csvWriter=csv.writer(csvfile)\n",
      "    csvWriter.writerow(['numbOfLayers','numOfUnitsExcBias','fming_cg_maxIter','traingSetNormalized','PCAonTrainSet','reducedDimAfterPCA'])"
     ],
     "language": "python",
     "metadata": {},
     "outputs": [],
     "prompt_number": 28
    },
    {
     "cell_type": "code",
     "collapsed": false,
     "input": [
      "whichConfig=4\n",
      "dimReducedTo=len(nn.layersExOutputLy[0])-1\n",
      "for i,ly in enumerate(nn.layersExOutputLy):\n",
      "    save('./Kaggle_digits_recognition_optWeight{0}_{1}'.format(whichConfig,i), nn.layersExOutputLy[i]._NnLayer__forwardWeight)\n",
      "with open('Kaggle_digits_recognition_configuration.csv', 'ab') as csvfile:\n",
      "    csvWriter = csv.writer(csvfile)\n",
      "    data=[len(nn.layersExOutputLy)]\n",
      "    for ly in nn.layersExOutputLy:\n",
      "        data.append(len(ly)-1)\n",
      "    data.append(maxIter)\n",
      "    data.append(traingSetNormalized)\n",
      "    data.append(PCAonTrainSet)\n",
      "    data.append(dimReducedTo)\n",
      "    csvWriter.writerow(data)"
     ],
     "language": "python",
     "metadata": {},
     "outputs": [],
     "prompt_number": 40
    },
    {
     "cell_type": "heading",
     "level": 1,
     "metadata": {},
     "source": [
      "Human perception v.s. my neural network's predicion:"
     ]
    },
    {
     "cell_type": "code",
     "collapsed": false,
     "input": [
      "nn_testInputs=pca_test_inputs if PCAonTrainSet else test_inputs\n",
      "whichExample=109\n",
      "display1DArrAsGrayImg(nn_testInputs[whichExample],28,28)\n",
      "print('My neural network\\'s prediction: {0}'.format(argmax(nn.forwardPropogateOneInput(nn_testInputs[whichExample]))))\n",
      "print('Testing example:')"
     ],
     "language": "python",
     "metadata": {},
     "outputs": [
      {
       "output_type": "stream",
       "stream": "stdout",
       "text": [
        "My neural network's prediction: 8\n",
        "Testing example:\n"
       ]
      },
      {
       "output_type": "display_data",
       "png": "[encoded data removed]",
       "text": [
        "<matplotlib.figure.Figure at 0x4d620310>"
       ]
      }
     ],
     "prompt_number": 53
    },
    {
     "cell_type": "heading",
     "level": 1,
     "metadata": {},
     "source": [
      "Make prediction on test set:"
     ]
    },
    {
     "cell_type": "raw",
     "metadata": {},
     "source": [
      "each row is: image index, prediction"
     ]
    },
    {
     "cell_type": "code",
     "collapsed": false,
     "input": [
      "indexAndPredictions=array((arange(1,len(nn_testInputs)+1),argmax(asarray(nn.forwardPropogateAllInput(nn_testInputs)),1))).T"
     ],
     "language": "python",
     "metadata": {},
     "outputs": [],
     "prompt_number": 43
    },
    {
     "cell_type": "raw",
     "metadata": {},
     "source": [
      "number of different predictions between mine and benchmark produced by randon forest created by Kaggle:"
     ]
    },
    {
     "cell_type": "code",
     "collapsed": false,
     "input": [
      "count_nonzero(logical_not(int64(test_rf_benchmark)[:,1]==indexAndPredictions[:,1]))"
     ],
     "language": "python",
     "metadata": {},
     "outputs": [
      {
       "output_type": "pyout",
       "prompt_number": 49,
       "text": [
        "777"
       ]
      }
     ],
     "prompt_number": 49
    },
    {
     "cell_type": "raw",
     "metadata": {},
     "source": [
      "image index of different predictions between mine and randon forest benchmark:"
     ]
    },
    {
     "cell_type": "code",
     "collapsed": false,
     "input": [
      "logical_not(int64(test_rf_benchmark)[:,1]==indexAndPredictions[:,1]).nonzero()[0] # image index of difference"
     ],
     "language": "python",
     "metadata": {},
     "outputs": [
      {
       "output_type": "pyout",
       "prompt_number": 45,
       "text": [
        "array([   81,   101,   109,   138,   139,   157,   172,   214,   246,\n",
        "         249,   275,   287,   305,   383,   428,   494,   509,   538,\n",
        "         647,   651,   653,   668,   728,   912,   927,  1036,  1083,\n",
        "        1096,  1122,  1131,  1183,  1244,  1249,  1271,  1383,  1392,\n",
        "        1402,  1456,  1487,  1494,  1503,  1566,  1588,  1686,  1888,\n",
        "        1900,  1907,  1953,  1958,  2007,  2085,  2087,  2112,  2120,\n",
        "        2126,  2145,  2208,  2367,  2369,  2386,  2407,  2409,  2416,\n",
        "        2445,  2485,  2499,  2518,  2548,  2594,  2600,  2637,  2663,\n",
        "        2667,  2727,  2828,  2832,  2835,  2845,  2870,  2885,  2908,\n",
        "        2963,  3080,  3081,  3097,  3126,  3174,  3220,  3231,  3254,\n",
        "        3255,  3256,  3279,  3288,  3294,  3327,  3361,  3367,  3373,\n",
        "        3378,  3391,  3424,  3448,  3463,  3490,  3529,  3622,  3627,\n",
        "        3721,  3723,  3735,  3774,  3794,  3803,  3857,  3865,  3934,\n",
        "        4080,  4167,  4187,  4251,  4263,  4279,  4374,  4390,  4448,\n",
        "        4474,  4480,  4509,  4605,  4610,  4723,  4748,  4765,  4774,\n",
        "        4780,  4806,  4824,  4839,  4878,  4927,  4993,  4994,  5038,\n",
        "        5214,  5215,  5222,  5272,  5276,  5350,  5420,  5447,  5457,\n",
        "        5470,  5513,  5520,  5557,  5561,  5571,  5602,  5618,  5678,\n",
        "        5684,  5715,  5777,  5830,  5901,  5945,  6000,  6040,  6070,\n",
        "        6148,  6155,  6169,  6170,  6212,  6215,  6244,  6284,  6327,\n",
        "        6400,  6403,  6448,  6458,  6474,  6550,  6577,  6677,  6687,\n",
        "        6713,  6738,  6789,  6798,  6801,  6904,  6906,  7026,  7128,\n",
        "        7153,  7178,  7179,  7242,  7256,  7264,  7277,  7339,  7341,\n",
        "        7370,  7372,  7437,  7511,  7556,  7586,  7608,  7819,  7825,\n",
        "        7837,  7842,  7882,  7911,  7978,  8084,  8119,  8197,  8247,\n",
        "        8255,  8316,  8324,  8337,  8355,  8369,  8481,  8488,  8514,\n",
        "        8521,  8578,  8605,  8710,  8736,  8866,  8899,  8926,  8950,\n",
        "        8956,  9158,  9275,  9277,  9335,  9368,  9382,  9393,  9473,\n",
        "        9514,  9518,  9577,  9597,  9645,  9682,  9730,  9737,  9814,\n",
        "        9881,  9886,  9903,  9910,  9928,  9981, 10040, 10067, 10128,\n",
        "       10130, 10252, 10301, 10320, 10338, 10362, 10380, 10396, 10398,\n",
        "       10423, 10429, 10480, 10500, 10505, 10590, 10644, 10690, 10775,\n",
        "       10861, 10870, 10872, 11013, 11062, 11106, 11118, 11123, 11130,\n",
        "       11139, 11146, 11166, 11198, 11199, 11250, 11266, 11287, 11299,\n",
        "       11361, 11380, 11409, 11463, 11557, 11587, 11627, 11649, 11654,\n",
        "       11670, 11695, 11743, 11746, 11752, 11756, 11759, 11762, 11827,\n",
        "       11861, 11862, 11976, 12074, 12086, 12090, 12092, 12108, 12133,\n",
        "       12165, 12208, 12251, 12297, 12309, 12355, 12419, 12432, 12438,\n",
        "       12465, 12467, 12507, 12527, 12557, 12620, 12635, 12655, 12694,\n",
        "       12725, 12754, 12838, 12839, 12889, 12896, 13074, 13108, 13115,\n",
        "       13157, 13242, 13268, 13315, 13320, 13331, 13340, 13363, 13380,\n",
        "       13468, 13522, 13559, 13576, 13594, 13596, 13616, 13650, 13816,\n",
        "       13870, 13888, 13891, 13905, 13925, 14066, 14144, 14196, 14249,\n",
        "       14256, 14258, 14279, 14339, 14371, 14393, 14449, 14465, 14551,\n",
        "       14558, 14569, 14579, 14719, 14737, 14742, 14759, 14826, 14840,\n",
        "       14888, 14918, 14927, 15005, 15025, 15034, 15057, 15076, 15096,\n",
        "       15190, 15221, 15281, 15301, 15326, 15438, 15440, 15509, 15514,\n",
        "       15669, 15748, 15763, 15779, 15833, 15981, 16024, 16028, 16136,\n",
        "       16173, 16195, 16323, 16365, 16424, 16434, 16447, 16452, 16475,\n",
        "       16577, 16627, 16662, 16687, 16765, 16789, 16856, 16858, 16869,\n",
        "       16876, 16905, 16919, 16934, 16957, 16964, 17008, 17012, 17013,\n",
        "       17068, 17077, 17085, 17093, 17160, 17220, 17228, 17270, 17281,\n",
        "       17288, 17338, 17368, 17406, 17473, 17478, 17522, 17583, 17593,\n",
        "       17600, 17678, 17748, 17766, 17825, 17834, 17836, 17844, 17931,\n",
        "       17941, 17946, 18032, 18116, 18126, 18177, 18180, 18182, 18223,\n",
        "       18278, 18312, 18390, 18430, 18458, 18471, 18568, 18592, 18647,\n",
        "       18669, 18690, 18703, 18805, 18852, 18928, 19054, 19095, 19154,\n",
        "       19244, 19342, 19351, 19402, 19407, 19491, 19543, 19546, 19582,\n",
        "       19629, 19649, 19673, 19674, 19718, 19772, 19791, 19807, 19833,\n",
        "       19843, 19847, 19896, 20043, 20060, 20067, 20070, 20071, 20112,\n",
        "       20149, 20262, 20299, 20376, 20411, 20455, 20480, 20483, 20509,\n",
        "       20537, 20583, 20592, 20619, 20644, 20665, 20668, 20685, 20747,\n",
        "       20751, 20752, 20774, 20801, 20817, 20851, 20877, 20882, 20928,\n",
        "       20943, 20946, 20949, 20950, 20988, 20997, 21009, 21013, 21036,\n",
        "       21108, 21114, 21117, 21141, 21174, 21271, 21277, 21362, 21368,\n",
        "       21388, 21405, 21439, 21456, 21459, 21484, 21517, 21539, 21541,\n",
        "       21544, 21546, 21568, 21578, 21591, 21619, 21705, 21726, 21762,\n",
        "       21846, 21878, 21960, 22015, 22091, 22114, 22219, 22238, 22261,\n",
        "       22376, 22450, 22483, 22529, 22555, 22653, 22721, 22725, 22758,\n",
        "       22838, 22873, 22883, 22908, 22967, 22995, 23017, 23035, 23082,\n",
        "       23090, 23146, 23156, 23171, 23188, 23251, 23274, 23293, 23334,\n",
        "       23364, 23428, 23453, 23583, 23609, 23647, 23659, 23671, 23675,\n",
        "       23739, 23788, 23819, 23835, 23915, 23989, 24015, 24062, 24079,\n",
        "       24180, 24193, 24208, 24284, 24329, 24349, 24417, 24453, 24460,\n",
        "       24476, 24480, 24493, 24540, 24553, 24564, 24737, 24738, 24753,\n",
        "       24766, 24783, 24795, 24823, 24840, 24867, 24885, 24971, 24974,\n",
        "       24991, 25013, 25034, 25047, 25054, 25103, 25107, 25153, 25263,\n",
        "       25267, 25297, 25323, 25353, 25368, 25429, 25621, 25709, 25715,\n",
        "       25725, 25755, 25793, 25816, 25855, 25879, 25889, 25931, 25939,\n",
        "       25940, 25952, 25964, 26036, 26047, 26055, 26079, 26134, 26210,\n",
        "       26216, 26290, 26292, 26317, 26336, 26364, 26395, 26496, 26530,\n",
        "       26548, 26650, 26688, 26691, 26698, 26764, 26782, 26808, 26810,\n",
        "       26814, 26846, 26868, 26877, 26907, 26908, 26926, 26941, 26950,\n",
        "       26964, 27015, 27045, 27070, 27078, 27092, 27103, 27178, 27225,\n",
        "       27238, 27259, 27289, 27336, 27343, 27406, 27472, 27491, 27516,\n",
        "       27638, 27658, 27665, 27669, 27716, 27724, 27789, 27823, 27869,\n",
        "       27918, 27937, 27954])"
       ]
      }
     ],
     "prompt_number": 45
    },
    {
     "cell_type": "raw",
     "metadata": {},
     "source": [
      "save predictions to csv file for Kaggle submission:"
     ]
    },
    {
     "cell_type": "code",
     "collapsed": false,
     "input": [
      "savetxt('./Kaggle_digits_recognition_nnPrediction{0}.csv'.format(whichConfig),indexAndPredictions,'%d',delimiter=',',comments='',header='ImageId,Label')"
     ],
     "language": "python",
     "metadata": {},
     "outputs": [],
     "prompt_number": 46
    },
    {
     "cell_type": "heading",
     "level": 2,
     "metadata": {},
     "source": [
      "A special thank"
     ]
    },
    {
     "cell_type": "markdown",
     "metadata": {},
     "source": [
      "I really appreciate Jake Vanderplass for his awesome introduction to scikit-learn and his works on https://github.com/jakevdp/sklearn_pycon2013."
     ]
    }
   ],
   "metadata": {}
  }
 ]
}